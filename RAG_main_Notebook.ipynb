{
 "cells": [
  {
   "cell_type": "code",
   "execution_count": 1,
   "id": "116fa16d-c347-4794-9860-2fcc09844544",
   "metadata": {
    "tags": []
   },
   "outputs": [],
   "source": [
    "# imports\n",
    "import torch\n",
    "\n",
    "import numpy as np\n",
    "\n",
    "import pandas as pd"
   ]
  },
  {
   "cell_type": "code",
   "execution_count": 2,
   "id": "7b1d9de5-4550-4285-90e2-c7d51b89e5a6",
   "metadata": {},
   "outputs": [],
   "source": [
    "from utils.data import download_all_papers"
   ]
  },
  {
   "cell_type": "code",
   "execution_count": 3,
   "id": "6a1ebb78-9b81-4a03-9381-3d876682e73a",
   "metadata": {},
   "outputs": [
    {
     "name": "stdout",
     "output_type": "stream",
     "text": [
      "[INFO] File data/pdf/2001.08361.pdf already exists.\n",
      "[INFO] File data/pdf/2203.15556.pdf already exists.\n",
      "[INFO] File data/pdf/2005.03141.pdf already exists.\n",
      "[INFO] File data/pdf/2306.10209.pdf already exists.\n",
      "[INFO] File data/pdf/2307.08691.pdf already exists.\n",
      "[INFO] File data/pdf/2312.00752.pdf already exists.\n",
      "[INFO] File data/pdf/2309.06180.pdf already exists.\n",
      "[INFO] File data/pdf/2406.03243.pdf already exists.\n",
      "[INFO] File data/pdf/2211.17192.pdf already exists.\n",
      "[INFO] File data/pdf/2401.10774.pdf already exists.\n",
      "[INFO] File data/pdf/2211.10438.pdf already exists.\n",
      "[INFO] File data/pdf/2306.00978.pdf already exists.\n",
      "[INFO] File data/pdf/2306.14048.pdf already exists.\n",
      "[INFO] File data/pdf/2310.01801.pdf already exists.\n",
      "[INFO] File data/pdf/2101.03961.pdf already exists.\n",
      "[INFO] File data/pdf/2106.06967.pdf already exists.\n",
      "[INFO] File data/pdf/2408.03314.pdf already exists.\n",
      "[INFO] File data/pdf/2408.00724.pdf already exists.\n",
      "[INFO] File data/pdf/2303.11312.pdf already exists.\n",
      "[INFO] File data/pdf/2303.11313.pdf already exists.\n",
      "[INFO] File data/pdf/2401.18059.pdf already exists.\n",
      "[INFO] File data/pdf/2502.04524.pdf already exists.\n",
      "[INFO] File data/pdf/2312.11514.pdf already exists.\n"
     ]
    }
   ],
   "source": [
    "download_all_papers()"
   ]
  },
  {
   "cell_type": "code",
   "execution_count": null,
   "id": "41c3e442-da1e-4c61-98b4-900fba987208",
   "metadata": {},
   "outputs": [],
   "source": []
  }
 ],
 "metadata": {
  "kernelspec": {
   "display_name": "PyTorch (CUDA 12.4)",
   "language": "python",
   "name": "envtorch124"
  },
  "language_info": {
   "codemirror_mode": {
    "name": "ipython",
    "version": 3
   },
   "file_extension": ".py",
   "mimetype": "text/x-python",
   "name": "python",
   "nbconvert_exporter": "python",
   "pygments_lexer": "ipython3",
   "version": "3.10.17"
  }
 },
 "nbformat": 4,
 "nbformat_minor": 5
}
