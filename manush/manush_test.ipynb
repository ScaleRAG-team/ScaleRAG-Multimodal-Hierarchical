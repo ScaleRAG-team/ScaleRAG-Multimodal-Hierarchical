{
 "cells": [
  {
   "cell_type": "code",
   "execution_count": 2,
   "id": "06373754-d998-46aa-b025-6729b38676e7",
   "metadata": {},
   "outputs": [
    {
     "name": "stdout",
     "output_type": "stream",
     "text": [
      "hello welcome to scale RAG\n"
     ]
    }
   ],
   "source": [
    "print(\"hello welcome to scale RAG\")"
   ]
  },
  {
   "cell_type": "code",
   "execution_count": null,
   "id": "ba8f09a8-7c2a-4375-8607-998733a0d8e3",
   "metadata": {},
   "outputs": [],
   "source": []
  }
 ],
 "metadata": {
  "kernelspec": {
   "display_name": "PyTorch (CUDA 12.4)",
   "language": "python",
   "name": "envtorch124"
  },
  "language_info": {
   "codemirror_mode": {
    "name": "ipython",
    "version": 3
   },
   "file_extension": ".py",
   "mimetype": "text/x-python",
   "name": "python",
   "nbconvert_exporter": "python",
   "pygments_lexer": "ipython3",
   "version": "3.10.17"
  }
 },
 "nbformat": 4,
 "nbformat_minor": 5
}
